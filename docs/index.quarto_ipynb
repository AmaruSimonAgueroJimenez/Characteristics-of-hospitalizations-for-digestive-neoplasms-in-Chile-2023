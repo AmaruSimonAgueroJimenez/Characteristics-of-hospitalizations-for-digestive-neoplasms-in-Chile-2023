{
  "cells": [
    {
      "cell_type": "markdown",
      "metadata": {},
      "source": [
        "---\n",
        "title: \"Characteristics of Hospitalization (length of stay, mortality, and comorbidities) for Patients with Stomach, Colorectal, Pancreatic, and Gallbladder Cancers in Chile, 2019-2023\"\n",
        "author:\n",
        "  - name: \"María Fernanda Gallego Muga\"\n",
        "    email: \"maria.gallego.muga@ug.uchile.cl\"\n",
        "    orcid: \"0000-0000-0000-0000\"\n",
        "  - name: \"Gregorio Palacios Pino\"\n",
        "    email: \"gregorio.palacios@ug.uchile.cl\"\n",
        "    orcid: \"0000-0000-0000-0000\"\n",
        "  - name: \"Valentina Meilan Ip Francesconi\"\n",
        "    email: \"valentina.ip@ug.uchile.cl \"\n",
        "    orcid: \"0000-0000-0000-0000\"\n",
        "  - name: \"Amaru Simón Agüero Jiménez\"\n",
        "    email: \"aaguero@miaundes.cl\"\n",
        "    orcid: \"0000-0001-7336-1833\"\n",
        "date: \"08/11/2024\"\n",
        "format:\n",
        "  html:\n",
        "    toc: true\n",
        "    toc-depth: 3\n",
        "    number-sections: true\n",
        "    number-depth: 3\n",
        "    code-fold: true\n",
        "execute:\n",
        "  warning: false #que los chunks no arrojen mensajes de emergencia\n",
        "  message: false #que los chunks no arrojen mensajes\n",
        "  fig-width: 12 #ancho de las figuras en el documento\n",
        "  fig-height: 10 #alto de las figuras\n",
        "---\n",
        "\n",
        "\n",
        "```{css, echo=FALSE}\n",
        "caption {\n",
        "  caption-side: top;\n",
        "  text-align: center;\n",
        "}\n",
        "```\n",
        "\n",
        "# Introduction, about the repository.\n",
        "\n",
        "This repository contains the source code used for the analysis of the characteristics of hospitalization (length of stay, mortality, and comorbidities) for patients with Stomach, Colorectal, Pancreatic, and Gallbladder Cancers in Chile, 2019-2023. The analysis is based on data from the Chilean Ministry of Health (MINSAL) and the National Health Fund (FONASA).\n",
        "\n",
        "- [Stage 1: Data administration.](https://amarusimonaguerojimenez.github.io/Characteristics-of-hospitalizations-for-digestive-neoplasms-in-Chile-2023/Stage1.html)\n"
      ],
      "id": "5f917b6e"
    }
  ],
  "metadata": {
    "kernelspec": {
      "name": "python3",
      "language": "python",
      "display_name": "Python 3 (ipykernel)",
      "path": "C:\\Users\\amaru\\AppData\\Local\\Programs\\Python\\Python313\\share\\jupyter\\kernels\\python3"
    }
  },
  "nbformat": 4,
  "nbformat_minor": 5
}